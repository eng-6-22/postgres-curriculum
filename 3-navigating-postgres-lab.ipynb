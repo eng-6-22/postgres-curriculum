{
 "cells": [
  {
   "cell_type": "markdown",
   "metadata": {},
   "source": [
    "# Navigating Postgres Lab"
   ]
  },
  {
   "cell_type": "markdown",
   "metadata": {},
   "source": [
    "### Introduction"
   ]
  },
  {
   "cell_type": "markdown",
   "metadata": {},
   "source": [
    "In this lesson, we'll practice working with the postgres shell to manage databases and tables, and how to learn about additional capabilities we can perform in postgres."
   ]
  },
  {
   "cell_type": "markdown",
   "metadata": {},
   "source": [
    "### Creating Databases and Tables"
   ]
  },
  {
   "cell_type": "markdown",
   "metadata": {},
   "source": [
    "To begin, log into the postgres while connecting to the `postgres` database."
   ]
  },
  {
   "cell_type": "markdown",
   "metadata": {},
   "source": [
    "> <img src=\"./psql-logged-in.png\" width=\"70%\">"
   ]
  },
  {
   "cell_type": "markdown",
   "metadata": {},
   "source": [
    "From here, list all of the databases."
   ]
  },
  {
   "cell_type": "markdown",
   "metadata": {},
   "source": [
    "> You will see different database names than the ones below."
   ]
  },
  {
   "cell_type": "markdown",
   "metadata": {},
   "source": [
    "> <img src=\"./pg-databases.png\" width=\"80%\">\n"
   ]
  },
  {
   "cell_type": "markdown",
   "metadata": {},
   "source": [
    "Next let's create and connect to a new database called blogger."
   ]
  },
  {
   "cell_type": "markdown",
   "metadata": {},
   "source": [
    "> Once connected, you'll see blogger in your command prompt."
   ]
  },
  {
   "cell_type": "markdown",
   "metadata": {},
   "source": [
    "> <img src=\"./blogger-db.png\" width=\"70%\">"
   ]
  },
  {
   "cell_type": "markdown",
   "metadata": {},
   "source": [
    "Now that we're connected, we can create a new table.  "
   ]
  },
  {
   "cell_type": "markdown",
   "metadata": {},
   "source": [
    "```SQL \n",
    "CREATE TABLE posts (id serial PRIMARY KEY,\n",
    "                   title VARCHAR(255));\n",
    "```"
   ]
  },
  {
   "cell_type": "markdown",
   "metadata": {},
   "source": [
    "> Copy and paste the above into the shell and press return."
   ]
  },
  {
   "cell_type": "markdown",
   "metadata": {},
   "source": [
    "Then display all of tables in the database."
   ]
  },
  {
   "cell_type": "markdown",
   "metadata": {},
   "source": [
    "> <img src=\"./posts-table.png\" width=\"50%\">"
   ]
  },
  {
   "cell_type": "markdown",
   "metadata": {},
   "source": [
    "And from here, let's view the schema of the posts table."
   ]
  },
  {
   "cell_type": "markdown",
   "metadata": {},
   "source": [
    "> <img src=\"./posts-schema.png\" width=\"70%\">"
   ]
  },
  {
   "cell_type": "markdown",
   "metadata": {},
   "source": [
    "### Navigating Postgres"
   ]
  },
  {
   "cell_type": "markdown",
   "metadata": {},
   "source": [
    "Ok, now that we worked created a postgres command, let's work with navigating postgres.  To begin, view the connected database and current user.  You'll see something like the following:\n",
    "\n",
    "> `You are connected to database \"blogger\" as user \"postgres\" via socket in \"/tmp\" at port \"5432\".`"
   ]
  },
  {
   "cell_type": "markdown",
   "metadata": {},
   "source": [
    "Ok, let's see if we can explore a different capability we can perform in postgres.  Type the command to see the list of postgres commands. "
   ]
  },
  {
   "cell_type": "markdown",
   "metadata": {},
   "source": [
    "> <img src=\"./some-commands.png\" width=\"70%\">"
   ]
  },
  {
   "cell_type": "markdown",
   "metadata": {},
   "source": [
    "Let's take a look at the \\watch command which states that it executes a query every number of seconds.  Try it with the following:\n",
    "\n",
    "```SQL\n",
    "SELECT * FROM posts; \\watch 1\n",
    "```\n",
    "\n"
   ]
  },
  {
   "cell_type": "markdown",
   "metadata": {},
   "source": [
    "We can stop the query by calling `ctl + c`."
   ]
  },
  {
   "cell_type": "markdown",
   "metadata": {},
   "source": [
    "Finally, navigate to the log file and in the bash terminal, use the command `tail -f` to follow updates to the log file.  Make some commands through the postgres tab to see updates to the log file.  The log file, by default, only displays error messages.  We can update this to display all SQL commands by updating the configuration file as described [here](https://tableplus.com/blog/2018/10/how-to-show-queries-log-in-postgresql.html)."
   ]
  },
  {
   "cell_type": "markdown",
   "metadata": {},
   "source": [
    "### Resources\n",
    "\n",
    "[Results to a File](https://stackoverflow.com/questions/5331320/psql-save-results-of-command-to-a-file?rq=1)"
   ]
  }
 ],
 "metadata": {
  "kernelspec": {
   "display_name": "Python 3",
   "language": "python",
   "name": "python3"
  },
  "language_info": {
   "codemirror_mode": {
    "name": "ipython",
    "version": 3
   },
   "file_extension": ".py",
   "mimetype": "text/x-python",
   "name": "python",
   "nbconvert_exporter": "python",
   "pygments_lexer": "ipython3",
   "version": "3.8.3"
  }
 },
 "nbformat": 4,
 "nbformat_minor": 4
}
