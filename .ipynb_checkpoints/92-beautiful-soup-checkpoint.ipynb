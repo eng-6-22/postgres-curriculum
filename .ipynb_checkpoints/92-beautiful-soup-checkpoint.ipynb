{
 "cells": [
  {
   "cell_type": "markdown",
   "metadata": {},
   "source": [
    "# Scraping HTML"
   ]
  },
  {
   "cell_type": "markdown",
   "metadata": {},
   "source": [
    "### Introduction"
   ]
  },
  {
   "cell_type": "markdown",
   "metadata": {},
   "source": [
    "After knowing a bit of html, we can use our knowledge to extract data from a website by parsing through that HTML.  In this lesson, we'll give that a shot by scraping just a little bit of the Yelp website.  Let's get started."
   ]
  },
  {
   "cell_type": "markdown",
   "metadata": {},
   "source": [
    "### Scraping Yelp"
   ]
  },
  {
   "cell_type": "code",
   "execution_count": 13,
   "metadata": {},
   "outputs": [],
   "source": [
    "import requests\n",
    "url = 'https://www.yelp.com/search?find_desc=chinese&find_loc=New+York%2C+NY+10001'\n",
    "response = requests.get(url)"
   ]
  },
  {
   "cell_type": "markdown",
   "metadata": {},
   "source": [
    "Now this time, instead of getting back the `response.json()`, let's get back the text that is returned.  "
   ]
  },
  {
   "cell_type": "code",
   "execution_count": 14,
   "metadata": {},
   "outputs": [],
   "source": [
    "response_text = response.text"
   ]
  },
  {
   "cell_type": "code",
   "execution_count": 16,
   "metadata": {},
   "outputs": [
    {
     "data": {
      "text/plain": [
       "'<!DOCTYPE html><html lang=\"en-US\" prefix=\"og: http://ogp.me/ns#\" style=\"margin: 0;padding: 0; border: 0; font-size: 100%; font: inherit; vertical-align: baseline;\"><head><script>document.documentEleme'"
      ]
     },
     "execution_count": 16,
     "metadata": {},
     "output_type": "execute_result"
    }
   ],
   "source": [
    "response_text[:200]"
   ]
  },
  {
   "cell_type": "markdown",
   "metadata": {},
   "source": [
    "We can see that this text is really the HTML that we get back from the yelp website.  And unlike json, parsing this takes a bit more work.  Fortunately, we can use beautiful soup to help us search through it and find the information that we want."
   ]
  },
  {
   "cell_type": "markdown",
   "metadata": {},
   "source": [
    "### Using Beautiful Soup"
   ]
  },
  {
   "cell_type": "code",
   "execution_count": 6,
   "metadata": {},
   "outputs": [],
   "source": [
    "from bs4 import BeautifulSoup as bs"
   ]
  },
  {
   "cell_type": "code",
   "execution_count": 17,
   "metadata": {},
   "outputs": [],
   "source": [
    "parsed_html = bs(response_text)"
   ]
  },
  {
   "cell_type": "markdown",
   "metadata": {},
   "source": [
    "Now by passing our string into beautiful soup, we now can search our string by different tags or attributes.  For example, if we want to find all elements of a certain tag, we can search our html like so."
   ]
  },
  {
   "cell_type": "code",
   "execution_count": 56,
   "metadata": {},
   "outputs": [
    {
     "data": {
      "text/plain": [
       "[<h1 class=\"heading--h3__09f24__3gZ0A\"><span class=\"raw__09f24__3Obuy\">Best chinese <span class=\"\">near New York, NY 10001</span></span></h1>]"
      ]
     },
     "execution_count": 56,
     "metadata": {},
     "output_type": "execute_result"
    }
   ],
   "source": [
    "parsed_html.select('h1')"
   ]
  },
  {
   "cell_type": "markdown",
   "metadata": {},
   "source": [
    "So here, we get a list of all of the 'h1' elements on the page -- there's only one.  "
   ]
  },
  {
   "cell_type": "markdown",
   "metadata": {},
   "source": [
    "### Finding list of elements"
   ]
  },
  {
   "cell_type": "markdown",
   "metadata": {},
   "source": [
    "What we would prefer to do is find the list of restaurants returned.  When we search the inspector, we could find the correct element by passing through the class of \"leftRail...\", with something like the following:"
   ]
  },
  {
   "cell_type": "markdown",
   "metadata": {},
   "source": [
    "<img src=\"./yelp-scrape.png\" width=\"70%\">"
   ]
  },
  {
   "cell_type": "code",
   "execution_count": 62,
   "metadata": {},
   "outputs": [
    {
     "data": {
      "text/plain": [
       "'Filters$$$$$$$$$$Sug'"
      ]
     },
     "execution_count": 62,
     "metadata": {},
     "output_type": "execute_result"
    }
   ],
   "source": [
    "selected_divs = parsed_html.select(\"div[class^=leftRail]\", limit = 1)\n",
    "\n",
    "selected_divs[0].text[:20]"
   ]
  },
  {
   "cell_type": "markdown",
   "metadata": {},
   "source": [
    "So this says to find all of the divs with a class that begins with the string 'leftRail', and then limit one.  Then we select the first div from the list, extract the text and slice the first 20 characters.  It turns out this probably gives us back too much html.  What we would like to do, is get as close as possible to our list of restaurants, so let's try to find those li elements."
   ]
  },
  {
   "cell_type": "markdown",
   "metadata": {},
   "source": [
    "### Finding the li elements"
   ]
  },
  {
   "cell_type": "markdown",
   "metadata": {},
   "source": [
    "<img src=\"./sponsored_results.png\" width=\"80%\">"
   ]
  },
  {
   "cell_type": "markdown",
   "metadata": {},
   "source": [
    "Ok, so when we identify our list of HTML elements, it turns out that the first list item contains the text sponsored results.  Then the succeeding list elements appear to be the restaurants.  \n",
    "\n",
    "So we would like to find this \"sponsored results\" list element, and then find the sibling list elements.  That is, find the li elements at the same level as the Sponsored Results li.  Here's how we can do this."
   ]
  },
  {
   "cell_type": "code",
   "execution_count": 68,
   "metadata": {},
   "outputs": [],
   "source": [
    "found_li = parsed_html.select(selector = 'li', text = \"Sponsored Results\")[0]"
   ]
  },
  {
   "cell_type": "markdown",
   "metadata": {},
   "source": [
    "So now that we've identified our Sponsored Results "
   ]
  },
  {
   "cell_type": "code",
   "execution_count": 85,
   "metadata": {},
   "outputs": [],
   "source": [
    "li_results = found_li.findNextSiblings('li')"
   ]
  },
  {
   "cell_type": "code",
   "execution_count": 100,
   "metadata": {},
   "outputs": [
    {
     "data": {
      "text/plain": [
       "13"
      ]
     },
     "execution_count": 100,
     "metadata": {},
     "output_type": "execute_result"
    }
   ],
   "source": [
    "len(li_results)"
   ]
  },
  {
   "cell_type": "markdown",
   "metadata": {},
   "source": [
    "Another way that we can find siblings is to get our `found_li`'s parent, and then find that parent's children."
   ]
  },
  {
   "cell_type": "code",
   "execution_count": 115,
   "metadata": {},
   "outputs": [],
   "source": [
    "parent = found_li.findParent()"
   ]
  },
  {
   "cell_type": "code",
   "execution_count": 123,
   "metadata": {},
   "outputs": [
    {
     "data": {
      "text/plain": [
       "'Sponsored Results'"
      ]
     },
     "execution_count": 123,
     "metadata": {},
     "output_type": "execute_result"
    }
   ],
   "source": [
    "parent.findChildren('li')[0].text"
   ]
  },
  {
   "cell_type": "code",
   "execution_count": 124,
   "metadata": {},
   "outputs": [
    {
     "data": {
      "text/plain": [
       "\"Yong Kang Street76$$Asian Fusion, Sushi Bars, Poke(212) 765-87771000 8th AveHell's KitchenDeliveryTakeout“A nice option for cheap and freshly made sushi. I've tried it a few times now and find the quality to be good for the price. The people running the place are welcoming and friendly.…”\\xa0moreStart OrderOffers takeout and delivery\""
      ]
     },
     "execution_count": 124,
     "metadata": {},
     "output_type": "execute_result"
    }
   ],
   "source": [
    "parent.findChildren('li')[1].text"
   ]
  },
  {
   "cell_type": "markdown",
   "metadata": {},
   "source": [
    "### Finding "
   ]
  },
  {
   "cell_type": "markdown",
   "metadata": {},
   "source": [
    "Now once we have found our list elements that we wish to search through, we can select our first list result."
   ]
  },
  {
   "cell_type": "code",
   "execution_count": 125,
   "metadata": {},
   "outputs": [],
   "source": [
    "first_result = li_results[0]"
   ]
  },
  {
   "cell_type": "markdown",
   "metadata": {},
   "source": [
    "And from there identify just the data that is relevant.  For example, the phone number is in the paragraph."
   ]
  },
  {
   "cell_type": "code",
   "execution_count": 128,
   "metadata": {},
   "outputs": [
    {
     "data": {
      "text/plain": [
       "'(212) 765-8777'"
      ]
     },
     "execution_count": 128,
     "metadata": {},
     "output_type": "execute_result"
    }
   ],
   "source": [
    "first_result.find('p').text"
   ]
  },
  {
   "cell_type": "markdown",
   "metadata": {},
   "source": [
    "And the title is located in h4."
   ]
  },
  {
   "cell_type": "code",
   "execution_count": 127,
   "metadata": {},
   "outputs": [
    {
     "data": {
      "text/plain": [
       "'Yong Kang Street'"
      ]
     },
     "execution_count": 127,
     "metadata": {},
     "output_type": "execute_result"
    }
   ],
   "source": [
    "li_results[0].find('h4').text"
   ]
  },
  {
   "cell_type": "markdown",
   "metadata": {},
   "source": [
    "So from there, we may wish to extract this information for each of our found restaurants."
   ]
  },
  {
   "cell_type": "code",
   "execution_count": 145,
   "metadata": {},
   "outputs": [],
   "source": [
    "restaurants = [] \n",
    "for card in li_results[3:]:\n",
    "    title = card.find('h4')\n",
    "    phone_number = card.find('p')\n",
    "    if title:\n",
    "        title = title.text\n",
    "    if phone_number:\n",
    "        number = phone_number.text\n",
    "    restaurant = {'name': title.split('\\xa0')[1], 'number': number}\n",
    "    restaurants.append(restaurant)"
   ]
  },
  {
   "cell_type": "code",
   "execution_count": 146,
   "metadata": {},
   "outputs": [
    {
     "data": {
      "text/plain": [
       "[{'name': 'China Xiang 中国湘', 'number': '(212) 967-6088'},\n",
       " {'name': 'Fu Xing', 'number': '(212) 575-6978'},\n",
       " {'name': 'Golden City Chinese Restaurant', 'number': '(212) 736-4004'},\n",
       " {'name': 'Dim Sum Chelsea', 'number': '(212) 645-0100'},\n",
       " {'name': 'Lan Sheng Restaurant', 'number': '(212) 575-8899'},\n",
       " {'name': 'Dim Sum Palace', 'number': '(646) 861-1910'},\n",
       " {'name': 'Da Tang Szechuan', 'number': '(646) 478-8345'},\n",
       " {'name': 'New Li Yuan', 'number': '(212) 575-6978'},\n",
       " {'name': 'Grand Sichuan', 'number': '(212) 620-5200'},\n",
       " {'name': 'Ming', 'number': '(212) 868-1378'}]"
      ]
     },
     "execution_count": 146,
     "metadata": {},
     "output_type": "execute_result"
    }
   ],
   "source": [
    "restaurants"
   ]
  },
  {
   "cell_type": "markdown",
   "metadata": {},
   "source": [
    "And now we have our list of restaurants."
   ]
  },
  {
   "cell_type": "markdown",
   "metadata": {},
   "source": [
    "### Summary"
   ]
  },
  {
   "cell_type": "code",
   "execution_count": null,
   "metadata": {},
   "outputs": [],
   "source": []
  }
 ],
 "metadata": {
  "kernelspec": {
   "display_name": "Python 3",
   "language": "python",
   "name": "python3"
  },
  "language_info": {
   "codemirror_mode": {
    "name": "ipython",
    "version": 3
   },
   "file_extension": ".py",
   "mimetype": "text/x-python",
   "name": "python",
   "nbconvert_exporter": "python",
   "pygments_lexer": "ipython3",
   "version": "3.8.3"
  }
 },
 "nbformat": 4,
 "nbformat_minor": 4
}
