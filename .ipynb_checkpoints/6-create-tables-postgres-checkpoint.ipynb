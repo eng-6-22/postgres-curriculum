{
 "cells": [
  {
   "cell_type": "markdown",
   "metadata": {},
   "source": [
    "# Creating Tables in Postgres"
   ]
  },
  {
   "cell_type": "markdown",
   "metadata": {},
   "source": [
    "### Introduction"
   ]
  },
  {
   "cell_type": "markdown",
   "metadata": {},
   "source": [
    "In this lesson, we'll learn of some of the options we have when creating tables in postgres.  As we'll see, postgres has different datatypes and additional options to specify when creating tables."
   ]
  },
  {
   "cell_type": "markdown",
   "metadata": {},
   "source": [
    "### Creating an Initial Table"
   ]
  },
  {
   "cell_type": "markdown",
   "metadata": {},
   "source": [
    "Let's get started writing the command to create a sample users table in postgres."
   ]
  },
  {
   "cell_type": "markdown",
   "metadata": {},
   "source": [
    "```sql\n",
    "CREATE TABLE IF NOT EXISTS users (\n",
    "   id serial PRIMARY KEY,\n",
    "    first_name VARCHAR (255) NOT NULL,\n",
    "    last_name VARCHAR (355) NOT NULL,\n",
    "    birth_date DATE NOT NULL,\n",
    "    created_at TIMESTAMP DEFAULT CURRENT_TIMESTAMP\n",
    ");\n",
    "```"
   ]
  },
  {
   "cell_type": "markdown",
   "metadata": {},
   "source": [
    "So above we create a `users` table, so long as one does not already exist, with the id, `first_name`, `last_name`, `birth_date` and `created_at` columns.  Before we go into some of the specifics of the columns, let's notice general pattern of creating columns."
   ]
  },
  {
   "cell_type": "markdown",
   "metadata": {},
   "source": [
    "```sql\n",
    "   column_name datatype(length) column_specifications\n",
    "```"
   ]
  },
  {
   "cell_type": "markdown",
   "metadata": {},
   "source": [
    "For example, with the `first_name` column, we specify that it's of datatype `varchar` of length 255 characters or fewer, and enforce that a first_name always be specified when creating a new row.  \n",
    "\n",
    "In the created_at column, we specify the datatype as Timestamp, and indicate that as a default value, the `current_timestamp` (that is the time the row is created) be set as the default value."
   ]
  },
  {
   "cell_type": "markdown",
   "metadata": {},
   "source": [
    "Also note that we use the `serial` datatype, for the id.  Serial is an integer that auto-increments."
   ]
  },
  {
   "cell_type": "markdown",
   "metadata": {},
   "source": [
    "### Setting Table Specifications"
   ]
  },
  {
   "cell_type": "markdown",
   "metadata": {},
   "source": [
    "At the end of the `CREATE TABLE` statement, we can specify different table specifications.  Let's see this by way of example:"
   ]
  },
  {
   "cell_type": "markdown",
   "metadata": {},
   "source": [
    "```SQL\n",
    "CREATE TABLE IF NOT EXISTS orders (\n",
    "  id serial PRIMARY KEY,\n",
    "  user_id INT,\n",
    "  product_id INT,\n",
    "  created_at TIMESTAMP DEFAULT CURRENT_TIMESTAMP,\n",
    "  FOREIGN KEY (user_id)\n",
    "      REFERENCES users (id),\n",
    "    FOREIGN KEY (product_id)\n",
    "      REFERENCES products (id)\n",
    ")\n",
    "```"
   ]
  },
  {
   "cell_type": "markdown",
   "metadata": {},
   "source": [
    "So in the orders table we now say that our `user_id` and `product_id` columns refer to foreign keys.  The foreign key constraint ensures that the `user_id` value in `orders` matches an `id` value in the `users` table.  "
   ]
  },
  {
   "cell_type": "markdown",
   "metadata": {},
   "source": [
    "### Summary"
   ]
  },
  {
   "cell_type": "markdown",
   "metadata": {},
   "source": [
    "In this lesson, we learned about the general format for creating tables in postgres.  \n",
    "\n",
    "```sql\n",
    "CREATE TABLE [IF NOT EXISTS] table_name (\n",
    "   column1 datatype(length) column_contraint,\n",
    "   column2 datatype(length) column_contraint,\n",
    "   table_constraints\n",
    ");\n",
    "```"
   ]
  },
  {
   "cell_type": "markdown",
   "metadata": {},
   "source": [
    "So for example, in our orders table, we specify the column name, datatype and constraint for each column, and then at the end of the statement specify the table constraints."
   ]
  },
  {
   "cell_type": "markdown",
   "metadata": {},
   "source": [
    "```SQL\n",
    "CREATE TABLE IF NOT EXISTS orders (\n",
    "  id serial PRIMARY KEY,\n",
    "  user_id INT,\n",
    "  product_id INT,\n",
    "  created_at TIMESTAMP DEFAULT CURRENT_TIMESTAMP,\n",
    "  FOREIGN KEY (user_id)\n",
    "      REFERENCES users (id),\n",
    "    FOREIGN KEY (product_id)\n",
    "      REFERENCES products (id)\n",
    ")\n",
    "```"
   ]
  },
  {
   "cell_type": "markdown",
   "metadata": {},
   "source": [
    "### Resources\n",
    "\n",
    "[Creating Tables in Postgres](https://www.postgresqltutorial.com/postgresql-create-table/)"
   ]
  },
  {
   "cell_type": "markdown",
   "metadata": {},
   "source": [
    "[Working with Datetimes in Postgres](https://www.postgresqltutorial.com/postgresql-date/)"
   ]
  }
 ],
 "metadata": {
  "kernelspec": {
   "display_name": "Python 3",
   "language": "python",
   "name": "python3"
  },
  "language_info": {
   "codemirror_mode": {
    "name": "ipython",
    "version": 3
   },
   "file_extension": ".py",
   "mimetype": "text/x-python",
   "name": "python",
   "nbconvert_exporter": "python",
   "pygments_lexer": "ipython3",
   "version": "3.8.3"
  }
 },
 "nbformat": 4,
 "nbformat_minor": 4
}
