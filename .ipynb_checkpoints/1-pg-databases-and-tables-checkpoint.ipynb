{
 "cells": [
  {
   "cell_type": "markdown",
   "metadata": {},
   "source": [
    "# Postgres Databases and Tables"
   ]
  },
  {
   "cell_type": "markdown",
   "metadata": {},
   "source": [
    "### Introduction"
   ]
  },
  {
   "cell_type": "markdown",
   "metadata": {},
   "source": [
    "In this lesson, we'll get begin to work with postgres.  We'll get started by learning how to connect to the postgres shell, and how to create databases and tables from inside that shell."
   ]
  },
  {
   "cell_type": "markdown",
   "metadata": {},
   "source": [
    "### Connecting and viewing Databases"
   ]
  },
  {
   "cell_type": "markdown",
   "metadata": {},
   "source": [
    "Now, once postgres is installed, we can connect to the postgres shell with the command `psql postgres`."
   ]
  },
  {
   "cell_type": "markdown",
   "metadata": {},
   "source": [
    "<img src=\"./postgres-login.png\" width=\"60%\">"
   ]
  },
  {
   "cell_type": "markdown",
   "metadata": {},
   "source": [
    "So we just issued a command to connect to postgres with the command `psql` and to connect to the `postgres` database, a default database in postgres."
   ]
  },
  {
   "cell_type": "markdown",
   "metadata": {},
   "source": [
    "If we want to exit the postgres shell, we can simply type `\\q`."
   ]
  },
  {
   "cell_type": "markdown",
   "metadata": {},
   "source": [
    "### Viewing Databases"
   ]
  },
  {
   "cell_type": "markdown",
   "metadata": {},
   "source": [
    "Let's stay logged into the postgres shell for now.  We can begin by viewing all of the available databases with the command `\\l`."
   ]
  },
  {
   "cell_type": "markdown",
   "metadata": {},
   "source": [
    "<img src=\"./postgres-databases.png\" width=\"70%\">"
   ]
  },
  {
   "cell_type": "markdown",
   "metadata": {},
   "source": [
    "From there, we can determine which database to connect to.  Remember we are currently connected to the database `postgres` (specified in the command prompt)."
   ]
  },
  {
   "cell_type": "markdown",
   "metadata": {},
   "source": [
    "Now we can create a new database with the CREATE DATABASE command."
   ]
  },
  {
   "cell_type": "markdown",
   "metadata": {},
   "source": [
    "```SQL\n",
    "CREATE DATABASE practice;\n",
    "```"
   ]
  },
  {
   "cell_type": "markdown",
   "metadata": {},
   "source": [
    "We can connect to this or any other database, with `\\c`.  For example, this is how we can connect to our new `practice` database.\n",
    "\n",
    "```SQL\n",
    "postgres=# \\c practice\n",
    "psql (13.0, server 11.0)\n",
    "You are now connected to database \"practice\" as user \"postgres\".\n",
    "```"
   ]
  },
  {
   "cell_type": "markdown",
   "metadata": {},
   "source": [
    "So now that we are connected to that database, subsequent commands that we execute will be performed on that database."
   ]
  },
  {
   "cell_type": "markdown",
   "metadata": {},
   "source": [
    "### Creating Databases and Tables"
   ]
  },
  {
   "cell_type": "markdown",
   "metadata": {},
   "source": [
    "Now that we are connected to the `practice` database, we can perform different commands on the database.  For example, we can view all of the tables in the practice database with the command `\\dt`, which stands for display tables."
   ]
  },
  {
   "cell_type": "markdown",
   "metadata": {},
   "source": [
    "```SQL\n",
    "practice=# \\dt\n",
    "Did not find any relations.\n",
    "```"
   ]
  },
  {
   "cell_type": "markdown",
   "metadata": {},
   "source": [
    "So there are currently no tables.  But we can create a new table with the CREATE TABLE command."
   ]
  },
  {
   "cell_type": "markdown",
   "metadata": {},
   "source": [
    "```SQL\n",
    "practice=# CREATE TABLE users (user_id serial PRIMARY KEY);\n",
    "CREATE TABLE\n",
    "```"
   ]
  },
  {
   "cell_type": "markdown",
   "metadata": {},
   "source": [
    "From there we can issue a select statement on the table."
   ]
  },
  {
   "cell_type": "markdown",
   "metadata": {},
   "source": [
    "```SQL\n",
    "practice=# SELECT * FROM users;\n",
    " user_id\n",
    "---------\n",
    "(0 rows)\n",
    "```"
   ]
  },
  {
   "cell_type": "markdown",
   "metadata": {},
   "source": [
    "So even though no rows were returned, we can see that there was a users table with a user_id column.  And, of course, we can also use our `\\dt` command to confirm that users has been created."
   ]
  },
  {
   "cell_type": "markdown",
   "metadata": {},
   "source": [
    "```sql\n",
    "practice=# \\dt\n",
    "         List of relations\n",
    " Schema | Name  | Type  |  Owner\n",
    "--------+-------+-------+----------\n",
    " public | users | table | postgres\n",
    "(1 row)\n",
    "```"
   ]
  },
  {
   "cell_type": "markdown",
   "metadata": {},
   "source": [
    "In addition, if we want to see details about the users table, we can use the command `\\d users`."
   ]
  },
  {
   "cell_type": "markdown",
   "metadata": {},
   "source": [
    "```sql\n",
    "practice=# \\d users\n",
    "                               Table \"public.users\"\n",
    " Column  |  Type   | Collation | Nullable |                Default\n",
    "\n",
    " user_id | integer |           | not null | nextval('users_user_id_seq'::regclass)\n",
    "Indexes:\n",
    "    \"users_pkey\" PRIMARY KEY, btree (user_id)\n",
    "```"
   ]
  },
  {
   "cell_type": "markdown",
   "metadata": {},
   "source": [
    "> So we used `\\dt` to display all tables in a database and `\\d users` to display the schema of the users table.  As we may have guessed, in postgres, \\d stands for display."
   ]
  },
  {
   "cell_type": "markdown",
   "metadata": {},
   "source": [
    "Finally, now that we have successfult created a new database and table within it, we can exit our shell with `\\q`."
   ]
  },
  {
   "cell_type": "markdown",
   "metadata": {},
   "source": [
    "### Summary"
   ]
  },
  {
   "cell_type": "code",
   "execution_count": null,
   "metadata": {},
   "outputs": [],
   "source": [
    "In this lesson, we learned how to connect to the "
   ]
  }
 ],
 "metadata": {
  "kernelspec": {
   "display_name": "Python 3",
   "language": "python",
   "name": "python3"
  },
  "language_info": {
   "codemirror_mode": {
    "name": "ipython",
    "version": 3
   },
   "file_extension": ".py",
   "mimetype": "text/x-python",
   "name": "python",
   "nbconvert_exporter": "python",
   "pygments_lexer": "ipython3",
   "version": "3.8.3"
  }
 },
 "nbformat": 4,
 "nbformat_minor": 4
}
