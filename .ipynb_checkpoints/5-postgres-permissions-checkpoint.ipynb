{
 "cells": [
  {
   "cell_type": "markdown",
   "metadata": {},
   "source": [
    "# Postgres Permissions"
   ]
  },
  {
   "cell_type": "markdown",
   "metadata": {},
   "source": [
    "### Introduction"
   ]
  },
  {
   "cell_type": "markdown",
   "metadata": {},
   "source": [
    "Roles are a pretty critical feature of postgres and databases in general.  Postgres gives us the ability to control the ability to read or write to databases, tables, or even individual rows in a table.  Let's get started."
   ]
  },
  {
   "cell_type": "markdown",
   "metadata": {},
   "source": [
    "### Managing Users"
   ]
  },
  {
   "cell_type": "markdown",
   "metadata": {},
   "source": [
    "Our general structure for managing users will be the following: \n",
    "\n",
    "We'll only use the master user, here postgres, for administrative operations like creating other users, and creating databases.  And we'll create two other roles: one to perform readonly access on a given database and one to perform readwrite access on a given database.\n",
    "\n",
    "For example, we may want to allow our devops personnel to create and destroy records from a database.  However, data analysts likely will not need to alter data, but only select data from a database.\n",
    "\n",
    "Ok, let's get started."
   ]
  },
  {
   "cell_type": "markdown",
   "metadata": {},
   "source": [
    "### Creating a Read Only User"
   ]
  },
  {
   "cell_type": "markdown",
   "metadata": {},
   "source": [
    "We can begin by logging into postgres as the postgres user, and then creating a readonly user.\n",
    "\n",
    "To do so, we execute the following commands."
   ]
  },
  {
   "cell_type": "markdown",
   "metadata": {},
   "source": [
    "* `CREATE USER readonly WITH PASSWORD 'readonly';`\n",
    "* `ALTER ROLE readonly WITH LOGIN;`"
   ]
  },
  {
   "cell_type": "markdown",
   "metadata": {},
   "source": [
    "The first command allowed us to login as that user.  Now, while still the postgres user, we can grant rights to that new `readonly` user.\n",
    "\n",
    "To do so, we should first determine the database that we want to grant rights to.  In this case, let's grant rights to the tables in the blogger database.  So that means, that as the postgres user we should connect to the blogger database:\n",
    "\n",
    "* `\\c blogger postgres`\n",
    "\n",
    "And now that we are connected to the database, we can grant SELECT access to all tables in the database with the following:"
   ]
  },
  {
   "cell_type": "markdown",
   "metadata": {},
   "source": [
    "```SQL \n",
    "GRANT SELECT ON ALL TABLES IN SCHEMA public TO readonly;\n",
    "```"
   ]
  },
  {
   "cell_type": "markdown",
   "metadata": {},
   "source": [
    "> Or if we just want to give read only access on certain tables, we can do so with the following:\n",
    "> ```SQL\n",
    "> GRANT SELECT ON TABLE mytable1, mytable2 TO readonly;\n",
    "> ```"
   ]
  },
  {
   "cell_type": "markdown",
   "metadata": {},
   "source": [
    "We can check that this occurred with something like the following:"
   ]
  },
  {
   "cell_type": "markdown",
   "metadata": {},
   "source": [
    "\n",
    "```SQL \n",
    "SELECT grantee, privilege_type \n",
    "FROM information_schema.role_table_grants \n",
    "WHERE table_name='posts'\n",
    "```"
   ]
  },
  {
   "cell_type": "markdown",
   "metadata": {},
   "source": [
    "> <img src=\"./show-privileges-on-table.png\" width=\"50%\">"
   ]
  },
  {
   "cell_type": "markdown",
   "metadata": {},
   "source": [
    "So here, we can see that our postgres user has all access to the tables in the database, while the readonly user only has SELECT access."
   ]
  },
  {
   "cell_type": "markdown",
   "metadata": {},
   "source": [
    "Then to ensure that the readonly user has access to tables created in the future, we also issue the following command:"
   ]
  },
  {
   "cell_type": "markdown",
   "metadata": {},
   "source": [
    "```SQL\n",
    "ALTER DEFAULT PRIVILEGES IN SCHEMA public GRANT SELECT ON TABLES TO readonly;\n",
    "```"
   ]
  },
  {
   "cell_type": "markdown",
   "metadata": {},
   "source": [
    "### Granting read and write access"
   ]
  },
  {
   "cell_type": "markdown",
   "metadata": {},
   "source": [
    "So next up is create a readwrite user, and then grant that user both SELECT and INSERT rights to the database.  Once again, to accomplish this we should first make sure we are connected to the blogger database as the postgres user.\n",
    "\n",
    "Then we can create our readwrite user:\n",
    "\n",
    "* CREATE USER readonly WITH PASSWORD 'readonly';\n",
    "* ALTER ROLE readonly WITH LOGIN;"
   ]
  },
  {
   "cell_type": "markdown",
   "metadata": {},
   "source": [
    "And grant the appropriate rights to our blogger database: "
   ]
  },
  {
   "cell_type": "markdown",
   "metadata": {},
   "source": [
    "```SQL\n",
    "GRANT CONNECT ON DATABASE practice TO readwrite;\n",
    "\n",
    "GRANT SELECT, INSERT, UPDATE, DELETE ON ALL TABLES IN SCHEMA public TO readwrite;\n",
    "```"
   ]
  },
  {
   "cell_type": "markdown",
   "metadata": {},
   "source": [
    "So now the readwrite user can perform any operation on the tables."
   ]
  },
  {
   "cell_type": "markdown",
   "metadata": {},
   "source": [
    "```SQL\n",
    "ALTER DEFAULT PRIVILEGES IN SCHEMA public GRANT SELECT, INSERT, UPDATE, DELETE ON TABLES TO readwrite;\n",
    "```"
   ]
  },
  {
   "cell_type": "markdown",
   "metadata": {},
   "source": [
    "### Inheriting Group rights"
   ]
  },
  {
   "cell_type": "markdown",
   "metadata": {},
   "source": [
    "So far we've created two users, readonly and readwrite, who have the corresponding access to our blogger database.  Now let's say we just hire a new developer.  One option is to tell him the `readwrite` password so he can log in as that user.  But if we wish to have a log of his actions on the database, or perhaps be able to revoke those privileges at a certain time, it may be better to create a separate user just for that developer."
   ]
  },
  {
   "cell_type": "markdown",
   "metadata": {},
   "source": [
    "```SQL\n",
    "CREATE USER jeffk WITH PASSWORD 'jeffk';\n",
    "ALTER ROLE jeffk WITH LOGIN;\n",
    "```\n",
    "\n",
    "Then if we want him to have readwrite access to the blogger database, we can make him a member of the readwrite group with the following: "
   ]
  },
  {
   "cell_type": "markdown",
   "metadata": {},
   "source": [
    "```SQL\n",
    "GRANT readwrite TO jeffk;\n",
    "```"
   ]
  },
  {
   "cell_type": "markdown",
   "metadata": {},
   "source": [
    "So now he can insert or select from the tables in the blogger database, as he inherits the rights of the readwrite user."
   ]
  },
  {
   "cell_type": "markdown",
   "metadata": {},
   "source": [
    "```SQL\n",
    "SELECT * FROM posts;\n",
    "```"
   ]
  },
  {
   "cell_type": "markdown",
   "metadata": {},
   "source": [
    "Then if we want, we can always revoke these rights from the user."
   ]
  },
  {
   "cell_type": "markdown",
   "metadata": {},
   "source": [
    "```SQL\n",
    "REVOKE readwrite FROM jeffk;\n",
    "```"
   ]
  },
  {
   "cell_type": "markdown",
   "metadata": {},
   "source": [
    "```SQL\n",
    "blogger=> SELECT * FROM posts;\n",
    "ERROR:  permission denied for table posts\n",
    "```"
   ]
  },
  {
   "cell_type": "markdown",
   "metadata": {},
   "source": [
    "### Summary"
   ]
  },
  {
   "cell_type": "markdown",
   "metadata": {},
   "source": [
    "In this lesson, we learned about managing users in postgres.  In doing so we learned about the following commands:\n",
    "\n",
    "* `CREATE USER readonly WITH PASSWORD 'readonly';`\n",
    "* `ALTER ROLE readonly WITH LOGIN;`: grant login capabilities\n",
    "* `GRANT SELECT ON ALL TABLES IN SCHEMA public TO readonly;`: grant select access on all tables\n",
    "\n",
    "* `GRANT SELECT, INSERT, UPDATE, DELETE ON ALL TABLES IN SCHEMA public TO readwrite;`: grant read write access\n",
    "* `GRANT readwrite TO jeffk;`: Grant readwrite permissions to other user\n",
    "* `REVOKE readwrite FROM jeffk;` Revoke readwrite permissions from user"
   ]
  },
  {
   "cell_type": "markdown",
   "metadata": {},
   "source": [
    "### Resources\n",
    "\n",
    "[AWS Blog Postgres Users](https://aws.amazon.com/blogs/database/managing-postgresql-users-and-roles/)"
   ]
  },
  {
   "cell_type": "markdown",
   "metadata": {},
   "source": [
    "[User Permissions](https://flaviocopes.com/postgres-user-permissions/)"
   ]
  },
  {
   "cell_type": "markdown",
   "metadata": {},
   "source": [
    "[Aiven Postgres Intro](https://aiven.io/blog/an-introduction-to-postgresql)"
   ]
  }
 ],
 "metadata": {
  "kernelspec": {
   "display_name": "Python 3",
   "language": "python",
   "name": "python3"
  },
  "language_info": {
   "codemirror_mode": {
    "name": "ipython",
    "version": 3
   },
   "file_extension": ".py",
   "mimetype": "text/x-python",
   "name": "python",
   "nbconvert_exporter": "python",
   "pygments_lexer": "ipython3",
   "version": "3.8.3"
  }
 },
 "nbformat": 4,
 "nbformat_minor": 4
}
