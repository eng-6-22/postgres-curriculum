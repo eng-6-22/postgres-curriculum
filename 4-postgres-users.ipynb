{
 "cells": [
  {
   "cell_type": "markdown",
   "metadata": {},
   "source": [
    "# Creating Postgres Users"
   ]
  },
  {
   "cell_type": "markdown",
   "metadata": {},
   "source": [
    "### Introduction"
   ]
  },
  {
   "cell_type": "markdown",
   "metadata": {},
   "source": [
    "Roles are a pretty critical feature of postgres and databases in general.  Postgres gives us the ability to control the ability to read or write to databases, tables, or even individual rows in a table.  Let's get started."
   ]
  },
  {
   "cell_type": "markdown",
   "metadata": {},
   "source": [
    "### Viewing Users"
   ]
  },
  {
   "cell_type": "markdown",
   "metadata": {},
   "source": [
    "Whenever we log into or access data from postgres, we are doing so as a role.  It is through a role that we have permission to connect to and access information in a database.  We can switch our roles, just like we can login or out of a website.  In postgres, roles and users are aliases for each other, with the exception that users have the ability to login."
   ]
  },
  {
   "cell_type": "markdown",
   "metadata": {},
   "source": [
    "1. The current user"
   ]
  },
  {
   "cell_type": "markdown",
   "metadata": {},
   "source": [
    "Whenever we are in the postgres shell, we have logged in as a user.  We can view the current user with the `SELECT current_user;` query:"
   ]
  },
  {
   "cell_type": "markdown",
   "metadata": {},
   "source": [
    "```psql\n",
    "postgres=# SELECT current_user;\n",
    " current_user\n",
    "--------------\n",
    " postgres\n",
    "(1 row)\n",
    "```"
   ]
  },
  {
   "cell_type": "markdown",
   "metadata": {},
   "source": [
    "So we can see that the current user is postgres.  Another way that we can view the current user is with the `/conninfo` command."
   ]
  },
  {
   "cell_type": "markdown",
   "metadata": {},
   "source": [
    "```\n",
    "postgres=# \\conninfo\n",
    "You are connected to database \"postgres\" as user \"postgres\" via socket in \"/tmp\" at port \"5432\".\n",
    "```"
   ]
  },
  {
   "cell_type": "markdown",
   "metadata": {},
   "source": [
    "2. Viewing all users"
   ]
  },
  {
   "cell_type": "markdown",
   "metadata": {},
   "source": [
    "Of course, our postgres database may have other users created -- each with their own set of permissions that it keeps track of.  We can see a list of roles in our postgres application with the `\\du` command, which stands for display users:"
   ]
  },
  {
   "cell_type": "markdown",
   "metadata": {},
   "source": [
    "<img src=\"./postgres-roles.png\" width=\"80%\">"
   ]
  },
  {
   "cell_type": "markdown",
   "metadata": {},
   "source": [
    "There we see a list of all roles in our postgres application, and the related permissions of the roles.  Notice that there we see the `postgres` role, who we are logged in as now, and that postgres role has Superuser rights, which also gives them the rights to create other users."
   ]
  },
  {
   "cell_type": "markdown",
   "metadata": {},
   "source": [
    "### Changing Users"
   ]
  },
  {
   "cell_type": "markdown",
   "metadata": {},
   "source": [
    "Now that we know how to view users in postgres, let's create a new role, and give that role superuser rights.  \n",
    "\n",
    "> We can only issue superuser rights if we are logged in as a superuser, which as the postgres user, we are."
   ]
  },
  {
   "cell_type": "markdown",
   "metadata": {},
   "source": [
    "We can create a new role with the `CREATE ROLE` command."
   ]
  },
  {
   "cell_type": "markdown",
   "metadata": {},
   "source": [
    "<img src=\"./create-new-user.png\" width=\"80%\">"
   ]
  },
  {
   "cell_type": "markdown",
   "metadata": {},
   "source": [
    "So we just created a role called `sample_user` with the CREATE ROLE command and set the login password to sample, and issued SUPERUSER rights.  "
   ]
  },
  {
   "cell_type": "markdown",
   "metadata": {},
   "source": [
    "Then we can change to the `sample_user` from our current session with something like the following:"
   ]
  },
  {
   "cell_type": "markdown",
   "metadata": {},
   "source": [
    "<img src=\"./changing-users.png\" width=\"70%\">"
   ]
  },
  {
   "cell_type": "markdown",
   "metadata": {},
   "source": [
    "> The above command said to connect to the current database as the `sample_user`.  Because the current database is `postgres` we are connected to postgres as `sample_user`."
   ]
  },
  {
   "cell_type": "markdown",
   "metadata": {},
   "source": [
    "At this point we may notice something odd, which is that we can switch users without typing in a password.  For example, we can change "
   ]
  },
  {
   "cell_type": "markdown",
   "metadata": {},
   "source": [
    "The reason why we did not need a password is because we did not yet password protect the `postgres` user.  \n",
    "\n",
    "> If the postgres user is unprotected, and the user has superuser rights, then there's no use in password protecting other users.\n",
    "\n",
    "So we can add a password to our postgres user with the ALTER USER command like so:"
   ]
  },
  {
   "cell_type": "markdown",
   "metadata": {},
   "source": [
    "> `ALTER ROLE postgres WITH PASSWORD 'postgres';`"
   ]
  },
  {
   "cell_type": "markdown",
   "metadata": {},
   "source": [
    "So now did we password protect our roles?  Well, not quite.  To do that, we'll also have to update our configuration file.  We'll discuss that in the next section."
   ]
  },
  {
   "cell_type": "markdown",
   "metadata": {},
   "source": [
    "### Changing our Configuration"
   ]
  },
  {
   "cell_type": "markdown",
   "metadata": {},
   "source": [
    "So we just created a new user with the CREATE ROLE and updated the postgres role to have a password with the ALTER ROLE command.  Still, we can currently login to either role without a password.  Let's see why."
   ]
  },
  {
   "cell_type": "markdown",
   "metadata": {},
   "source": [
    "The issue is that the `pg_hba.conf` file controls whether to require logging in as passwords, and by default this file sets the login policy to trust - as in just trust that an individual is that role, without requiring a login.  \n",
    "\n",
    "We can change this by first finding and then altering the `pg_hba.conf` file.  We can find configuration files, while logged into postgres with the following:"
   ]
  },
  {
   "cell_type": "markdown",
   "metadata": {},
   "source": [
    "<img src=\"./show-conf-file.png\" width=\"70%\">"
   ]
  },
  {
   "cell_type": "markdown",
   "metadata": {},
   "source": [
    "Our pg_hba.conf file should be located in the same folder as `postgresql.conf`.  So let's navigate to that folder."
   ]
  },
  {
   "cell_type": "markdown",
   "metadata": {},
   "source": [
    "`cd /Users/jeff/Library/Application\\ Support/Postgres/var-11/`"
   ]
  },
  {
   "cell_type": "markdown",
   "metadata": {},
   "source": [
    "And once there, we can find the `postgresql.conf` file.  At the bottom of that file, we'll see each of the policies set to trust.  To change this, I altered my file to change the METHOD from `trust` to `md5`:"
   ]
  },
  {
   "cell_type": "markdown",
   "metadata": {},
   "source": [
    "<img src=\"./change-md5.png\">"
   ]
  },
  {
   "cell_type": "markdown",
   "metadata": {},
   "source": [
    "Then shutdown postgres.\n",
    "\n",
    "> If you have the postgres app, this can be done by clicking on the app icon, and selecting `quit`.  Then restart the app."
   ]
  },
  {
   "cell_type": "markdown",
   "metadata": {},
   "source": [
    "### Logging in Again"
   ]
  },
  {
   "cell_type": "markdown",
   "metadata": {},
   "source": [
    "This time when we connect to the psql shell, we'll need to provide a password.  We can specify the user we are connecting with by providing the `-U` flag."
   ]
  },
  {
   "cell_type": "markdown",
   "metadata": {},
   "source": [
    "<img src=\"./psql-login.png\" width=\"70%\">"
   ]
  },
  {
   "cell_type": "markdown",
   "metadata": {},
   "source": [
    "Then we can confirm that this worked with the `conninfo` command.\n",
    "\n",
    "```SQL\n",
    "postgres=# \\conninfo\n",
    "You are connected to database \"postgres\" as user \"postgres\" via socket in \"/tmp\" at port \"5432\".\n",
    "```"
   ]
  },
  {
   "cell_type": "markdown",
   "metadata": {},
   "source": [
    "Or we can also select the current user."
   ]
  },
  {
   "cell_type": "markdown",
   "metadata": {},
   "source": [
    "```SQL\n",
    "postgres=# SELECT current_user;\n",
    " current_user\n",
    "--------------\n",
    " postgres\n",
    "(1 row)\n",
    "```"
   ]
  },
  {
   "cell_type": "markdown",
   "metadata": {},
   "source": [
    "And we can to a different sample_user with `\\c - sample_user` command, which this time is password protected."
   ]
  },
  {
   "cell_type": "markdown",
   "metadata": {},
   "source": [
    "```SQL\n",
    "postgres=# SELECT current_user;\n",
    " current_user\n",
    "--------------\n",
    " sample_user\n",
    "(1 row)\n",
    "```"
   ]
  },
  {
   "cell_type": "markdown",
   "metadata": {},
   "source": [
    "### Summary"
   ]
  },
  {
   "cell_type": "markdown",
   "metadata": {},
   "source": [
    "In this section we learned multiple command for viewing and managing roles in postgres.  In doing so, we learned of the following:  \n",
    "\n",
    "1. Viewing current user\n",
    "* `\\conninfo`\n",
    "* `SELECT current_user;`\n",
    "\n",
    "2. Viewing all roles\n",
    "* `\\du`\n",
    "\n",
    "3. Creating and Altering roles\n",
    "\n",
    "* CREATE ROLE sample_user LOGIN PASSWORD 'sample' SUPERUSER;\n",
    "* ALTER ROLE postgres WITH PASSWORD 'postgres';\n",
    "\n",
    "4. Changing the role\n",
    "\n",
    "* `\\c - sample_user`: connect to the current database as the sample user\n",
    "* `psql -U sample_user` connect to postgres as the specified user"
   ]
  },
  {
   "cell_type": "markdown",
   "metadata": {},
   "source": [
    "Then we also learned how to setup our postgres application to enforce logins with passwords.  To do so, we first identified the location of our configuration with the command:\n",
    "\n",
    "`show config_file;`\n",
    "\n",
    "Then we navigated to the `pg_hba.conf` and changed the METHOD trust to `md5`.  Then we restarted postgres and authenticated with our password."
   ]
  },
  {
   "cell_type": "markdown",
   "metadata": {},
   "source": [
    "### Resources\n",
    "\n",
    "\n",
    "[User Permissions](https://flaviocopes.com/postgres-user-permissions/)"
   ]
  },
  {
   "cell_type": "markdown",
   "metadata": {},
   "source": [
    "[Aiven Postgres Intro](https://aiven.io/blog/an-introduction-to-postgresql)\n",
    "\n",
    "[AWS Blog Postgres Users](https://aws.amazon.com/blogs/database/managing-postgresql-users-and-roles/)"
   ]
  }
 ],
 "metadata": {
  "kernelspec": {
   "display_name": "Python 3",
   "language": "python",
   "name": "python3"
  },
  "language_info": {
   "codemirror_mode": {
    "name": "ipython",
    "version": 3
   },
   "file_extension": ".py",
   "mimetype": "text/x-python",
   "name": "python",
   "nbconvert_exporter": "python",
   "pygments_lexer": "ipython3",
   "version": "3.8.3"
  }
 },
 "nbformat": 4,
 "nbformat_minor": 4
}
