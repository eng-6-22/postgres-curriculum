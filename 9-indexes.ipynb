{
 "cells": [
  {
   "cell_type": "markdown",
   "metadata": {},
   "source": [
    "# Indexes in Postgres"
   ]
  },
  {
   "cell_type": "markdown",
   "metadata": {},
   "source": [
    "### Introduction"
   ]
  },
  {
   "cell_type": "markdown",
   "metadata": {},
   "source": [
    "In this lesson, we'll learn about indexes in Postgres, and the costs and benefits of adding an index.  Let's take a look."
   ]
  },
  {
   "cell_type": "markdown",
   "metadata": {},
   "source": [
    "### Reading"
   ]
  },
  {
   "cell_type": "markdown",
   "metadata": {},
   "source": [
    "Read through section 1.1 of the postgres documentation, [Postgres documentation](https://www.postgresql.org/docs/9.1/indexes-intro.html).  Then we'll review some of what's in that material."
   ]
  },
  {
   "cell_type": "markdown",
   "metadata": {},
   "source": [
    "### Takeaways"
   ]
  },
  {
   "cell_type": "markdown",
   "metadata": {},
   "source": [
    "> Ok, so let's make sure that we understand some of the key points from the documentation.  \n",
    "\n",
    "Adding an index is a way to speed up our query time.  If we have a table that looks like the following:"
   ]
  },
  {
   "cell_type": "markdown",
   "metadata": {},
   "source": [
    "| id | title           | genre     |\n",
    "|----|-----------------|-----------|\n",
    "| 1  | Maltese Falcoln      |Mystery |\n",
    "| 2  | Tom Sawyer | Adventure   |\n",
    "| 3  | Gone Girl       | Mystery   |"
   ]
  },
  {
   "cell_type": "markdown",
   "metadata": {},
   "source": [
    "And we want to identify all of the mystery books, then we write the following SQL query:\n",
    "\n",
    "```SQL \n",
    "SELECT * FROM books WHERE genre = 'Mystery'\n",
    "```"
   ]
  },
  {
   "cell_type": "markdown",
   "metadata": {},
   "source": [
    "And SQL will need to move through each genre to complete the query.  When we index a specific column, we can think of storing the data almost like a dictionary (although the actual underlying data structure will vary):"
   ]
  },
  {
   "cell_type": "code",
   "execution_count": 1,
   "metadata": {},
   "outputs": [],
   "source": [
    "genre_index = {'Adventure': [1], 'Mystery': [2, 3]}"
   ]
  },
  {
   "cell_type": "markdown",
   "metadata": {},
   "source": [
    "So now if we wish to find all of the Mystery records, we can do so just by returning the list from our index."
   ]
  },
  {
   "cell_type": "code",
   "execution_count": 2,
   "metadata": {},
   "outputs": [
    {
     "data": {
      "text/plain": [
       "[2, 3]"
      ]
     },
     "execution_count": 2,
     "metadata": {},
     "output_type": "execute_result"
    }
   ],
   "source": [
    "genre_index['Mystery']"
   ]
  },
  {
   "cell_type": "markdown",
   "metadata": {},
   "source": [
    "No more going one by one through all of our records.  Instead Postgres will first retrieve the ids of the mystery novels, and then just search for those Ids."
   ]
  },
  {
   "cell_type": "markdown",
   "metadata": {},
   "source": [
    "### What's the downside"
   ]
  },
  {
   "cell_type": "markdown",
   "metadata": {},
   "source": [
    "There are a couple of downsides to indexing.\n",
    "\n",
    "1. Space\n",
    "\n",
    "With an index, we now have to store extra information in our database.\n",
    "\n",
    "2. Transaction Time \n",
    "\n",
    "Perhaps even more noticable is the transaction time.  Each time we insert or delete a record, we also need to update the index in our database.  This adds overhead to each database transaction, and thus can slow down what quick operations like creating a user, or creating a new twitter post.  For this reason, we should only use indexes when they are needed.  "
   ]
  },
  {
   "cell_type": "markdown",
   "metadata": {},
   "source": [
    "### Adding an Index in Postgres"
   ]
  },
  {
   "cell_type": "markdown",
   "metadata": {},
   "source": [
    "Now let's review how we can create an index in postgres.  Before we dive, let's see if we can do a bit of a before and after.\n",
    "\n",
    "Let's say we want to add an index to the genre of a movie.  Before we do so, we want to see the time it takes to search for movies by their genre."
   ]
  },
  {
   "cell_type": "markdown",
   "metadata": {},
   "source": [
    "```SQL\n",
    "EXPLAIN ANALYZE SELECT * FROM movies WHERE genre = 'Action';\n",
    "```"
   ]
  },
  {
   "cell_type": "markdown",
   "metadata": {},
   "source": [
    "<img src=\"./explain-analyze.png\" width=\"70%\">"
   ]
  },
  {
   "cell_type": "markdown",
   "metadata": {},
   "source": [
    "Ok, now let's add our index on the movie genres."
   ]
  },
  {
   "cell_type": "markdown",
   "metadata": {},
   "source": [
    "```SQL\n",
    "CREATE INDEX movies_genre_index ON movies (genre);\n",
    "```"
   ]
  },
  {
   "cell_type": "markdown",
   "metadata": {},
   "source": [
    "And let's quit out of postgres (`\\q`), and log back into the postgres shell.  Then we can re-execute the query."
   ]
  },
  {
   "cell_type": "markdown",
   "metadata": {},
   "source": [
    "<img src=\"./post-index.png\" width=\"90%\">"
   ]
  },
  {
   "cell_type": "markdown",
   "metadata": {},
   "source": [
    "So notice now that instead of a Seq Scan, that we saw before, it is now using a Bitmap Heap Scan -- which is it's mechanism for indexing.  And notice that the execution time decreased from 1.661 ms, to .864 ms."
   ]
  },
  {
   "cell_type": "markdown",
   "metadata": {},
   "source": [
    "### Summary"
   ]
  },
  {
   "cell_type": "markdown",
   "metadata": {},
   "source": [
    "In this lesson, we were introduced to indexing in databases.  We saw that indexing allows us to perform faster queries by allowing us to avoid a sequential scan of the data.  It does so by keeping track of which records have certain values in a column\n",
    "```python\n",
    "genre_index = {'Adventure': [1], 'Mystery': [2, 3]}\n",
    "```\n",
    "\n",
    "The downside to this is mainly the additional transaction time it takes update the table, as now inserting or deleting records from the database requires maintenance of the index.  To assess the benefit from performing an index, we can use the EXPLAIN ANALYZE command on a query like so:\n",
    "\n",
    "```\n",
    "EXPLAIN ANALYZE SELECT * FROM movies WHERE genre = 'Action';\n",
    "```\n",
    "And then can see the benefit from adding an index on a column:\n",
    "\n",
    "```\n",
    "CREATE INDEX movies_genre_index ON movies (genre);\n",
    "```"
   ]
  },
  {
   "cell_type": "markdown",
   "metadata": {},
   "source": [
    "### Resources\n",
    "\n",
    "\n",
    "\n",
    "[Indexes postgres documentation](https://www.postgresql.org/docs/9.1/indexes.html)\n",
    "\n",
    "[Indexes and Btree](https://www.youtube.com/watch?v=NI9wYuVIYcA&ab_channel=Ivantalksaboutcomputers)\n",
    "\n",
    "[Database Indexing - Clustered](https://www.freecodecamp.org/news/database-indexing-at-a-glance-bb50809d48bd/)"
   ]
  },
  {
   "cell_type": "markdown",
   "metadata": {},
   "source": [
    "[Indexing Wikipedia](https://en.wikipedia.org/wiki/Database_index#Index_architecture_and_indexing_methods)\n",
    "\n",
    "[Online Book about Indexing](https://use-the-index-luke.com/sql/table-of-contents)"
   ]
  }
 ],
 "metadata": {
  "kernelspec": {
   "display_name": "Python 3",
   "language": "python",
   "name": "python3"
  },
  "language_info": {
   "codemirror_mode": {
    "name": "ipython",
    "version": 3
   },
   "file_extension": ".py",
   "mimetype": "text/x-python",
   "name": "python",
   "nbconvert_exporter": "python",
   "pygments_lexer": "ipython3",
   "version": "3.8.3"
  }
 },
 "nbformat": 4,
 "nbformat_minor": 4
}
